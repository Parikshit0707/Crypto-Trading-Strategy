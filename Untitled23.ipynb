{
  "nbformat": 4,
  "nbformat_minor": 0,
  "metadata": {
    "colab": {
      "provenance": []
    },
    "kernelspec": {
      "name": "python3",
      "display_name": "Python 3"
    },
    "language_info": {
      "name": "python"
    }
  },
  "cells": [
    {
      "cell_type": "code",
      "execution_count": 196,
      "metadata": {
        "id": "y9NQeny7wbgJ"
      },
      "outputs": [],
      "source": [
        "import requests\n",
        "import pandas as pd\n",
        "\n",
        "# Set API key and request parameters\n",
        "# API_KEY = '3ECF8392-3A25-4A57-9EFD-A947F2CE86C5'\n",
        " \n",
        "# url = 'https://rest.coinapi.io/v1/ohlcv/BITSTAMP_SPOT_BTC_USD/latest?period_id=1DAY'\n",
        "url = \"https://api.coingecko.com/api/v3/coins/bitcoin/market_chart?vs_currency=USD&days=95&interval=hourly\"\n",
        "# headers = {'X-CoinAPI-Key' : API_KEY}\n",
        "# response = requests.get(url, headers=headers)\n",
        "response = requests.get(url)\n",
        "\n",
        "data = response.json()"
      ]
    },
    {
      "cell_type": "code",
      "source": [
        "print(data)"
      ],
      "metadata": {
        "colab": {
          "base_uri": "https://localhost:8080/"
        },
        "id": "_jnK0jXXYIP-",
        "outputId": "7bf58357-7c24-4e1b-ad92-0d8b33f7128d"
      },
      "execution_count": 197,
      "outputs": [
        {
          "output_type": "stream",
          "name": "stdout",
          "text": [
            "{'status': {'error_code': 429, 'error_message': \"You've exceeded the Rate Limit. Please visit https://www.coingecko.com/en/api/pricing to subscribe to our API plans for higher rate limits.\"}}\n"
          ]
        }
      ]
    },
    {
      "cell_type": "code",
      "source": [
        "prices = []\n",
        "for i in range(0, len(data['prices'])):\n",
        "  prices.append(data['prices'][i][1])\n",
        "\n",
        "print(prices)\n",
        "df = pd.DataFrame()\n",
        "df['prices'] = prices\n",
        "df.head()\n",
        "# df.set_index('date', inplace=True)\n",
        "# l1 = []\n",
        "# for i in range(0, len(df)):\n",
        "#   l1.append(df['quote'].iloc[i]['USD']['price'])"
      ],
      "metadata": {
        "colab": {
          "base_uri": "https://localhost:8080/",
          "height": 244
        },
        "id": "aSQEk29cRwGt",
        "outputId": "add03d09-1813-4765-b21a-89abd48361e8"
      },
      "execution_count": 153,
      "outputs": [
        {
          "output_type": "stream",
          "name": "stdout",
          "text": [
            "[30382.40624219559, 29256.813374416255, 29491.507947760598, 30351.050417138096, 29163.167775739188, 29655.02613175249, 29584.949851985926, 29346.781442431617, 28646.65218193245, 29088.236452817226, 29492.503214953642, 31740.94072516695, 31865.749621173167, 29833.450330205254, 30481.013996026013, 29714.143487149733, 29872.3603087139, 29917.764052456198, 31372.5847629755, 31265.469277693348, 30229.236836130378, 30101.187521431468, 29101.2982596468, 28374.14499732395, 26767.269173221313, 22525.768350391198, 22244.848968001315, 22529.198114649807, 20408.690490591813, 20473.05288079512, 19047.41782828195, 20516.41197977524, 20636.75891240637, 20700.923933039136, 19983.566482863105, 21100.270533511088, 21262.71348295613, 21525.88036221139, 21052.80539783573, 20751.477530790766, 20282.542479269694, 20108.529472889782, 19608.397493423083, 19407.447430262473, 19268.227002666128, 19310.233218521833, 20257.012328592882, 20188.779663973284, 20566.68722377, 21660.596837075183, 21858.818749217564, 21589.628101459668, 20859.81407965063, 19998.467839575842, 19350.73735007727, 20225.23866433186, 20574.84059150044, 20794.811981436706, 21193.08334336837, 20824.36275165164, 22395.365383103952, 23366.90769792785, 23313.296731959555, 23155.207555248304, 22696.902754290055, 22506.199573628986, 22613.719208248454, 21330.295450788173, 21235.612316085775, 22908.884260468687, 23822.067597823116, 23847.58331873861, 23653.459549430798, 23379.70052509082, 23333.749243312184, 23053.846847482677, 22860.42098438317, 22678.363633874185, 23225.036201942938, 22984.57953144855, 23197.603469525384, 23823.679442453606, 23203.680696781623, 23948.829553271633, 23948.75170368143, 24411.379871522615, 24433.653747243658, 24312.541424891562, 24179.014652309197, 23913.333725628458, 23359.418837070007, 23248.38422819264, 20945.8339660496, 21175.232732989512, 21615.761693416986, 21387.747114773963, 21562.45153991356, 21395.45846975991, 21618.009019176647, 20271.322951706014, 20069.953331596196, 19659.24670619362, 20308.861447891457, 19805.35069885804, 20023.55444491251, 20153.975977982507, 19941.451370047158, 19814.5642451146, 19980.013222242276, 19785.73350185514, 18859.500087680277, 19280.62547645678, 19322.77774937157, 21359.58252557909, 21707.38731931814, 21739.80437979554, 22339.67050262336, 20184.96749189655, 20255.922978327133, 19702.169889811717, 19764.411712043777, 20131.675305714027, 19437.157867982634, 19570.386709523507, 18869.928809390534, 18539.63523831258, 19464.322663348466, 19291.904802452067, 18939.970580499372, 18809.41143933244, 19219.727780656474, 19116.331160710437, 19444.787771362975, 19563.765161776904, 19476.92659600407, 19314.463835217448, 19065.153837148988, 19620.567543591394, 20345.398520106643, 20161.830614985047, 19949.051041418512, 19457.308951251147, 19418.037989243952, 19448.14900175761, 19142.694767392895, 19058.628039738272, 19153.039779986986, 19383.9432200889, 19198.107144951755, 19072.780513358884, 19272.921847772006, 19557.895548868444, 19348.029368810374, 19134.242664465204, 19031.15987195947, 19173.28046885863, 19203.86547117714, 19574.824231840797, 19316.94062294213, 20095.152230674925, 20774.247496426033, 20278.36623205219, 20591.241208098614, 20800.70708772471, 20623.871497040946, 20494.60120983709, 20489.646203160763, 20162.980904822525, 20210.912417111318, 21150.315583912397, 21282.985109422694, 20906.99792695512, 20597.755017060834, 18562.353215089643, 15742.444335961438, 17594.923500278233, 17080.215260565037, 16797.98748257006, 16344.342316001042, 16645.828500283515, 16890.52938386464, 16689.39673273771, 16718.361228055077, 16707.022778986535, 16712.729525794817, 16304.07685562355, 15814.335280855257, 16171.628978315088, 16608.00998544357, 16596.03575847268, 16524.449007720887, 16456.156062496684, 16459.149543755877, 16222.210728731225, 16441.979978419113, 17186.502572066118, 16972.73406077455, 17084.87334047068, 16923.38287008033, 17149.93175096291, 16973.372577553495, 17085.64314125141, 16851.30346863184, 17235.014157992136, 17149.824203925327, 17125.364927688952, 17101.038019732932, 17179.596038203494, 17784.162894053265, 17808.71617265881, 17338.358126632633, 16623.75782614431, 16806.48559206152, 16742.816663834055, 16422.562273279298, 16899.331969046758, 16816.85370118997, 16824.790162441503, 16791.45543916491, 16848.568708323422, 16842.177039905502, 16900.081871938084, 16701.840210667935, 16538.906094001977, 16644.379087037905, 16604.020520373393, 16540.693624776803, 16615.969318012816, 16674.342536301097, 16677.646185850346, 16855.1747387671, 16832.098988497855, 16960.23206247515, 16950.861521853905, 17074.61539572674, 17194.90932945318, 17436.90232978116, 17996.832553741606, 18866.810330617045, 19941.780543296303, 21019.20661402266, 20853.230569490253, 21175.33773662521, 21156.78393116713, 20726.844969426445, 21081.671022204326, 22705.83367889906, 22771.023287021784, 22736.66142892971, 22984.87497643721, 22610.010598272846, 23180.422697874263, 23024.74618081709, 23082.858382122955, 23022.23299135344, 23797.460894881242, 22840.385858797104, 23137.323554088376, 23725.161796142238, 23539.676770196525, 23451.577650774634, 23340.34958553934, 22946.286578591233, 22786.483006387727, 23294.9136483527, 22947.50782856846, 21820.886508092775, 21630.132979576298, 21889.432080049624, 21779.87440384417, 21807.834274723064, 22220.070997481067, 24307.875101631602, 23756.907281577434, 24628.82455217312, 24642.79087073843, 24284.478003714703, 24786.665940845705, 24417.38703630947, 24146.101364545222, 23951.11098423326, 23172.286538018925, 23157.038107459524, 23541.115854493557, 23518.12390627588, 23155.543746825795, 23634.333489123786, 23464.33654185282, 22367.43302246967, 22348.32991538815, 22421.885805853268, 22415.113659694827, 22217.209884905325, 21712.65119391273, 20376.320007428807, 20195.2289502733, 20521.55615175117, 22095.71339833569, 24178.95532797469, 24758.765085827567, 24587.542025278475]\n"
          ]
        },
        {
          "output_type": "execute_result",
          "data": {
            "text/plain": [
              "         prices\n",
              "0  30382.406242\n",
              "1  29256.813374\n",
              "2  29491.507948\n",
              "3  30351.050417\n",
              "4  29163.167776"
            ],
            "text/html": [
              "\n",
              "  <div id=\"df-8b7afc96-26b9-4776-acfb-0d7867e88ed0\">\n",
              "    <div class=\"colab-df-container\">\n",
              "      <div>\n",
              "<style scoped>\n",
              "    .dataframe tbody tr th:only-of-type {\n",
              "        vertical-align: middle;\n",
              "    }\n",
              "\n",
              "    .dataframe tbody tr th {\n",
              "        vertical-align: top;\n",
              "    }\n",
              "\n",
              "    .dataframe thead th {\n",
              "        text-align: right;\n",
              "    }\n",
              "</style>\n",
              "<table border=\"1\" class=\"dataframe\">\n",
              "  <thead>\n",
              "    <tr style=\"text-align: right;\">\n",
              "      <th></th>\n",
              "      <th>prices</th>\n",
              "    </tr>\n",
              "  </thead>\n",
              "  <tbody>\n",
              "    <tr>\n",
              "      <th>0</th>\n",
              "      <td>30382.406242</td>\n",
              "    </tr>\n",
              "    <tr>\n",
              "      <th>1</th>\n",
              "      <td>29256.813374</td>\n",
              "    </tr>\n",
              "    <tr>\n",
              "      <th>2</th>\n",
              "      <td>29491.507948</td>\n",
              "    </tr>\n",
              "    <tr>\n",
              "      <th>3</th>\n",
              "      <td>30351.050417</td>\n",
              "    </tr>\n",
              "    <tr>\n",
              "      <th>4</th>\n",
              "      <td>29163.167776</td>\n",
              "    </tr>\n",
              "  </tbody>\n",
              "</table>\n",
              "</div>\n",
              "      <button class=\"colab-df-convert\" onclick=\"convertToInteractive('df-8b7afc96-26b9-4776-acfb-0d7867e88ed0')\"\n",
              "              title=\"Convert this dataframe to an interactive table.\"\n",
              "              style=\"display:none;\">\n",
              "        \n",
              "  <svg xmlns=\"http://www.w3.org/2000/svg\" height=\"24px\"viewBox=\"0 0 24 24\"\n",
              "       width=\"24px\">\n",
              "    <path d=\"M0 0h24v24H0V0z\" fill=\"none\"/>\n",
              "    <path d=\"M18.56 5.44l.94 2.06.94-2.06 2.06-.94-2.06-.94-.94-2.06-.94 2.06-2.06.94zm-11 1L8.5 8.5l.94-2.06 2.06-.94-2.06-.94L8.5 2.5l-.94 2.06-2.06.94zm10 10l.94 2.06.94-2.06 2.06-.94-2.06-.94-.94-2.06-.94 2.06-2.06.94z\"/><path d=\"M17.41 7.96l-1.37-1.37c-.4-.4-.92-.59-1.43-.59-.52 0-1.04.2-1.43.59L10.3 9.45l-7.72 7.72c-.78.78-.78 2.05 0 2.83L4 21.41c.39.39.9.59 1.41.59.51 0 1.02-.2 1.41-.59l7.78-7.78 2.81-2.81c.8-.78.8-2.07 0-2.86zM5.41 20L4 18.59l7.72-7.72 1.47 1.35L5.41 20z\"/>\n",
              "  </svg>\n",
              "      </button>\n",
              "      \n",
              "  <style>\n",
              "    .colab-df-container {\n",
              "      display:flex;\n",
              "      flex-wrap:wrap;\n",
              "      gap: 12px;\n",
              "    }\n",
              "\n",
              "    .colab-df-convert {\n",
              "      background-color: #E8F0FE;\n",
              "      border: none;\n",
              "      border-radius: 50%;\n",
              "      cursor: pointer;\n",
              "      display: none;\n",
              "      fill: #1967D2;\n",
              "      height: 32px;\n",
              "      padding: 0 0 0 0;\n",
              "      width: 32px;\n",
              "    }\n",
              "\n",
              "    .colab-df-convert:hover {\n",
              "      background-color: #E2EBFA;\n",
              "      box-shadow: 0px 1px 2px rgba(60, 64, 67, 0.3), 0px 1px 3px 1px rgba(60, 64, 67, 0.15);\n",
              "      fill: #174EA6;\n",
              "    }\n",
              "\n",
              "    [theme=dark] .colab-df-convert {\n",
              "      background-color: #3B4455;\n",
              "      fill: #D2E3FC;\n",
              "    }\n",
              "\n",
              "    [theme=dark] .colab-df-convert:hover {\n",
              "      background-color: #434B5C;\n",
              "      box-shadow: 0px 1px 3px 1px rgba(0, 0, 0, 0.15);\n",
              "      filter: drop-shadow(0px 1px 2px rgba(0, 0, 0, 0.3));\n",
              "      fill: #FFFFFF;\n",
              "    }\n",
              "  </style>\n",
              "\n",
              "      <script>\n",
              "        const buttonEl =\n",
              "          document.querySelector('#df-8b7afc96-26b9-4776-acfb-0d7867e88ed0 button.colab-df-convert');\n",
              "        buttonEl.style.display =\n",
              "          google.colab.kernel.accessAllowed ? 'block' : 'none';\n",
              "\n",
              "        async function convertToInteractive(key) {\n",
              "          const element = document.querySelector('#df-8b7afc96-26b9-4776-acfb-0d7867e88ed0');\n",
              "          const dataTable =\n",
              "            await google.colab.kernel.invokeFunction('convertToInteractive',\n",
              "                                                     [key], {});\n",
              "          if (!dataTable) return;\n",
              "\n",
              "          const docLinkHtml = 'Like what you see? Visit the ' +\n",
              "            '<a target=\"_blank\" href=https://colab.research.google.com/notebooks/data_table.ipynb>data table notebook</a>'\n",
              "            + ' to learn more about interactive tables.';\n",
              "          element.innerHTML = '';\n",
              "          dataTable['output_type'] = 'display_data';\n",
              "          await google.colab.output.renderOutput(dataTable, element);\n",
              "          const docLink = document.createElement('div');\n",
              "          docLink.innerHTML = docLinkHtml;\n",
              "          element.appendChild(docLink);\n",
              "        }\n",
              "      </script>\n",
              "    </div>\n",
              "  </div>\n",
              "  "
            ]
          },
          "metadata": {},
          "execution_count": 153
        }
      ]
    },
    {
      "cell_type": "code",
      "source": [
        "df['150ma'] = df['prices'].rolling(window=150).mean()\n",
        "df['50ma'] = df['prices'].rolling(window=50).mean()"
      ],
      "metadata": {
        "id": "IbXsizlsVzCX"
      },
      "execution_count": 154,
      "outputs": []
    },
    {
      "cell_type": "code",
      "source": [
        "print(df)"
      ],
      "metadata": {
        "colab": {
          "base_uri": "https://localhost:8080/"
        },
        "id": "hxSr82B1iK7R",
        "outputId": "614f853d-7192-4176-d944-1153141e51c4"
      },
      "execution_count": 143,
      "outputs": [
        {
          "output_type": "stream",
          "name": "stdout",
          "text": [
            "          prices        150ma         50ma\n",
            "0    2023.848259          NaN          NaN\n",
            "1    1963.990940          NaN          NaN\n",
            "2    1978.147133          NaN          NaN\n",
            "3    2046.646350          NaN          NaN\n",
            "4    1974.581194          NaN          NaN\n",
            "..           ...          ...          ...\n",
            "296  1474.403244  1412.752109  1603.364711\n",
            "297  1588.196802  1414.752328  1602.610461\n",
            "298  1678.915634  1417.294248  1603.571876\n",
            "299  1708.300897  1420.178295  1605.078660\n",
            "300  1634.771289  1422.363816  1606.632890\n",
            "\n",
            "[301 rows x 3 columns]\n"
          ]
        }
      ]
    },
    {
      "cell_type": "code",
      "source": [
        "\n",
        "\n",
        "# Calculate moving averages\n",
        "\n",
        "# Generate signals based on moving averages\n",
        "df['signal'] = 0\n",
        "for i in range(0, len(df)):\n",
        "  if df['prices'].iloc[i] > df.iloc[i]['150ma']:\n",
        "    df['signal'].iloc[i] = 1\n",
        "\n",
        "  elif df['prices'].iloc[i] < df.iloc[i]['50ma']:\n",
        "    df['signal'].iloc[i] = -1\n",
        "# df.loc[df['quote']['USD']['price'] > df['30ma'], 'signal'] = 1\n",
        "# df.loc[df['quote']['USD']['price'] < df['50ma'], 'signal'] = -1\n",
        "\n",
        "# Execute trades based on signals\n",
        "\n",
        "amount = 0.01\n",
        "position = 0\n",
        "balance = 10000\n",
        "trades = []\n",
        "\n",
        "for i in range(len(df)):\n",
        "    if df['signal'][i] > position:\n",
        "        # Buy\n",
        "        price = df['prices'].iloc[i]\n",
        "        trade_cost = amount * price\n",
        "        if trade_cost <= balance:\n",
        "            trades.append(('buy', price, amount))\n",
        "            position = 1\n",
        "            balance -= trade_cost\n",
        "    elif df['signal'][i] < position:\n",
        "        # Sell\n",
        "        price = df['prices'].iloc[i]\n",
        "        trade_cost = amount * price\n",
        "        if position == 1:\n",
        "            trades.append(('sell', price, amount))\n",
        "            position = -1\n",
        "            balance += trade_cost\n",
        "\n",
        "# Calculate profit/loss\n",
        "pnl = 0\n",
        "for trade in trades:\n",
        "    if trade[0] == 'buy':\n",
        "        pnl -= trade[1] * trade[2]\n",
        "    elif trade[0] == 'sell':\n",
        "        pnl += trade[1] * trade[2]\n",
        "print(f'Profit/Loss: ${pnl:.2f}')"
      ],
      "metadata": {
        "colab": {
          "base_uri": "https://localhost:8080/"
        },
        "id": "ym1EeD63xGmx",
        "outputId": "45495cde-e75d-4901-cbc3-1e93135dacc2"
      },
      "execution_count": 155,
      "outputs": [
        {
          "output_type": "stream",
          "name": "stdout",
          "text": [
            "Profit/Loss: $-204.98\n"
          ]
        },
        {
          "output_type": "stream",
          "name": "stderr",
          "text": [
            "<ipython-input-155-588e51728ee6>:10: SettingWithCopyWarning: \n",
            "A value is trying to be set on a copy of a slice from a DataFrame\n",
            "\n",
            "See the caveats in the documentation: https://pandas.pydata.org/pandas-docs/stable/user_guide/indexing.html#returning-a-view-versus-a-copy\n",
            "  df['signal'].iloc[i] = -1\n",
            "<ipython-input-155-588e51728ee6>:7: SettingWithCopyWarning: \n",
            "A value is trying to be set on a copy of a slice from a DataFrame\n",
            "\n",
            "See the caveats in the documentation: https://pandas.pydata.org/pandas-docs/stable/user_guide/indexing.html#returning-a-view-versus-a-copy\n",
            "  df['signal'].iloc[i] = 1\n"
          ]
        }
      ]
    },
    {
      "cell_type": "code",
      "source": [],
      "metadata": {
        "id": "G_xGR_q7Q-Tf"
      },
      "execution_count": null,
      "outputs": []
    }
  ]
}